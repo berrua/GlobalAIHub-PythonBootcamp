{
  "metadata": {
    "kernelspec": {
      "display_name": "Pyolite",
      "language": "python",
      "name": "python"
    },
    "language_info": {
      "codemirror_mode": {
        "name": "python",
        "version": 3
      },
      "file_extension": ".py",
      "mimetype": "text/x-python",
      "name": "python",
      "nbconvert_exporter": "python",
      "pygments_lexer": "ipython3",
      "version": "3.8"
    }
  },
  "nbformat_minor": 5,
  "nbformat": 4,
  "cells": [
    {
      "cell_type": "markdown",
      "source": "# Input and Output Functions",
      "metadata": {},
      "id": "ad548283-4cdd-4028-8c3f-0ef909026619"
    },
    {
      "cell_type": "markdown",
      "source": "*Input - Get values from users\n*Print - Show output to users",
      "source": "*Input - Get values from users\n*Print - Show output to users",
      "metadata": {},
      "id": "e84178a0-3239-4772-bfc6-6bf8141de9f8"
    },
    {
      "cell_type": "code",
      "source": "print('Hello World')",
      "metadata": {
        "trusted": true
      },
      "execution_count": 2,
      "outputs": [
        {
          "name": "stdout",
          "text": "Hello World\n",
          "output_type": "stream"
        }
      ],
      "id": "f66b5749-436e-4150-89a5-45090f228400"
    },
    {
      "cell_type": "code",
      "source": "name = 'Berru'\nprint(name)",
      "metadata": {
        "trusted": true
      },
      "execution_count": 3,
      "outputs": [
        {
          "name": "stdout",
          "text": "Berru\n",
          "output_type": "stream"
        }
      ],
      "id": "bdff0299-adef-475a-a0bb-63bf0df623e9"
    },
    {
      "cell_type": "code",
      "source": "name = 'Berru'\nprint('Hello', name)",
      "metadata": {
        "trusted": true
      },
      "execution_count": 4,
      "outputs": [
        {
          "name": "stdout",
          "text": "Hello Berru\n",
          "output_type": "stream"
        }
      ],
      "id": "8097dd96-b242-4fd3-b941-93de04a4ede3"
    },
    {
      "cell_type": "code",
      "source": "print(14)",
      "metadata": {
        "trusted": true
      },
      "execution_count": 5,
      "outputs": [
        {
          "name": "stdout",
          "text": "14\n",
          "output_type": "stream"
        }
      ],
      "id": "23379cc9-2f69-40ed-90a8-cdb28c072535"
    },
    {
      "cell_type": "code",
      "source": "name = input('Name: ')\nprint('Greetings', name)",
      "metadata": {},
      "execution_count": null,
      "outputs": [],
      "id": "73034775-8815-4412-8810-73a4910d6b6a"
    },
    {
      "cell_type": "code",
      "source": "number = int(input('Number: '))\nprint(number + 10)",
      "metadata": {},
      "execution_count": null,
      "outputs": [],
      "id": "22efe006-6f88-4fa5-8120-06b9b65b45c1"
    }
  ]
}
